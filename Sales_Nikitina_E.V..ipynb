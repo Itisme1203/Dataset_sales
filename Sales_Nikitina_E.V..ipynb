{
 "cells": [
  {
   "cell_type": "markdown",
   "id": "6f13d5f8",
   "metadata": {},
   "source": [
    "**Анализ данных о розничных продажах в супермаркетах**\n",
    "\n",
    "Данные взяты с сайта Kaggle\n",
    "\n",
    "**Используемые колонки:**\n",
    "\n",
    "**Идентификатор счета-фактуры:** Идентификационный номер счета-фактуры, сгенерированный компьютером.\n",
    "\n",
    "**Филиал:** Филиал суперцентра (доступны 3 филиала, обозначенные буквами A, B и C).\n",
    "\n",
    "**Город:** Расположение суперцентров\n",
    "\n",
    "**Тип клиента:** Тип клиентов, зарегистрированный Участниками для клиентов, использующих карту участника, и Обычный для клиентов без карты участника.\n",
    "\n",
    "**Пол:** Пол типа клиента\n",
    "\n",
    "**Линия продуктов:** Общие группы категорий товаров - Электронные аксессуары, Модные аксессуары, Еда и напитки, Здоровье и красота, Дом и образ жизни, Спорт и путешествия\n",
    "\n",
    "**Цена за единицу:** Цена каждого продукта в $\n",
    "\n",
    "**Количество:** количество продуктов, купленных клиентом.\n",
    "\n",
    "**Налог:** 5% налог на покупку клиента\n",
    "\n",
    "**Итого:** Общая стоимость, включая налог\n",
    "\n",
    "**Дата: **Дата покупки (запись доступна с января 2019 г. по март 2019 г.)\n",
    "\n",
    "**Время:** Время покупки (с 10:00 до 21:00)\n",
    "\n",
    "**Оплата:** оплата, используемая покупателем для покупки (доступны 3 способа — наличные, кредитная карта и электронный кошелек)\n",
    "\n",
    "**COGS:** Стоимость проданных товаров\n",
    "\n",
    "**Процент валовой прибыли:** Процент валовой прибыли\n",
    "\n",
    "**Валовой доход:** Валовой доход\n",
    "\n",
    "**Рейтинг:** рейтинг стратификации клиентов по их общему опыту покупок (по шкале от 1 до 10)."
   ]
  },
  {
   "cell_type": "markdown",
   "id": "5edfae68",
   "metadata": {},
   "source": [
    "Импортируем данные:"
   ]
  },
  {
   "cell_type": "code",
   "execution_count": 5,
   "id": "abaf7fe8",
   "metadata": {
    "scrolled": true
   },
   "outputs": [
    {
     "data": {
      "text/html": [
       "<div>\n",
       "<style scoped>\n",
       "    .dataframe tbody tr th:only-of-type {\n",
       "        vertical-align: middle;\n",
       "    }\n",
       "\n",
       "    .dataframe tbody tr th {\n",
       "        vertical-align: top;\n",
       "    }\n",
       "\n",
       "    .dataframe thead th {\n",
       "        text-align: right;\n",
       "    }\n",
       "</style>\n",
       "<table border=\"1\" class=\"dataframe\">\n",
       "  <thead>\n",
       "    <tr style=\"text-align: right;\">\n",
       "      <th></th>\n",
       "      <th>Invoice ID</th>\n",
       "      <th>Branch</th>\n",
       "      <th>City</th>\n",
       "      <th>Customer type</th>\n",
       "      <th>Gender</th>\n",
       "      <th>Product line</th>\n",
       "      <th>Unit price</th>\n",
       "      <th>Quantity</th>\n",
       "      <th>Tax 5%</th>\n",
       "      <th>Total</th>\n",
       "      <th>Date</th>\n",
       "      <th>Time</th>\n",
       "      <th>Payment</th>\n",
       "      <th>cogs</th>\n",
       "      <th>gross margin percentage</th>\n",
       "      <th>gross income</th>\n",
       "      <th>Rating</th>\n",
       "    </tr>\n",
       "  </thead>\n",
       "  <tbody>\n",
       "    <tr>\n",
       "      <th>0</th>\n",
       "      <td>750-67-8428</td>\n",
       "      <td>A</td>\n",
       "      <td>Yangon</td>\n",
       "      <td>Member</td>\n",
       "      <td>Female</td>\n",
       "      <td>Health and beauty</td>\n",
       "      <td>74.69</td>\n",
       "      <td>7</td>\n",
       "      <td>26.1415</td>\n",
       "      <td>548.9715</td>\n",
       "      <td>1/5/2019</td>\n",
       "      <td>13:08</td>\n",
       "      <td>Ewallet</td>\n",
       "      <td>522.83</td>\n",
       "      <td>4.761905</td>\n",
       "      <td>26.1415</td>\n",
       "      <td>9.1</td>\n",
       "    </tr>\n",
       "    <tr>\n",
       "      <th>1</th>\n",
       "      <td>226-31-3081</td>\n",
       "      <td>C</td>\n",
       "      <td>Naypyitaw</td>\n",
       "      <td>Normal</td>\n",
       "      <td>Female</td>\n",
       "      <td>Electronic accessories</td>\n",
       "      <td>15.28</td>\n",
       "      <td>5</td>\n",
       "      <td>3.8200</td>\n",
       "      <td>80.2200</td>\n",
       "      <td>3/8/2019</td>\n",
       "      <td>10:29</td>\n",
       "      <td>Cash</td>\n",
       "      <td>76.40</td>\n",
       "      <td>4.761905</td>\n",
       "      <td>3.8200</td>\n",
       "      <td>9.6</td>\n",
       "    </tr>\n",
       "    <tr>\n",
       "      <th>2</th>\n",
       "      <td>631-41-3108</td>\n",
       "      <td>A</td>\n",
       "      <td>Yangon</td>\n",
       "      <td>Normal</td>\n",
       "      <td>Male</td>\n",
       "      <td>Home and lifestyle</td>\n",
       "      <td>46.33</td>\n",
       "      <td>7</td>\n",
       "      <td>16.2155</td>\n",
       "      <td>340.5255</td>\n",
       "      <td>3/3/2019</td>\n",
       "      <td>13:23</td>\n",
       "      <td>Credit card</td>\n",
       "      <td>324.31</td>\n",
       "      <td>4.761905</td>\n",
       "      <td>16.2155</td>\n",
       "      <td>7.4</td>\n",
       "    </tr>\n",
       "    <tr>\n",
       "      <th>3</th>\n",
       "      <td>123-19-1176</td>\n",
       "      <td>A</td>\n",
       "      <td>Yangon</td>\n",
       "      <td>Member</td>\n",
       "      <td>Male</td>\n",
       "      <td>Health and beauty</td>\n",
       "      <td>58.22</td>\n",
       "      <td>8</td>\n",
       "      <td>23.2880</td>\n",
       "      <td>489.0480</td>\n",
       "      <td>1/27/2019</td>\n",
       "      <td>20:33</td>\n",
       "      <td>Ewallet</td>\n",
       "      <td>465.76</td>\n",
       "      <td>4.761905</td>\n",
       "      <td>23.2880</td>\n",
       "      <td>8.4</td>\n",
       "    </tr>\n",
       "    <tr>\n",
       "      <th>4</th>\n",
       "      <td>373-73-7910</td>\n",
       "      <td>A</td>\n",
       "      <td>Yangon</td>\n",
       "      <td>Normal</td>\n",
       "      <td>Male</td>\n",
       "      <td>Sports and travel</td>\n",
       "      <td>86.31</td>\n",
       "      <td>7</td>\n",
       "      <td>30.2085</td>\n",
       "      <td>634.3785</td>\n",
       "      <td>2/8/2019</td>\n",
       "      <td>10:37</td>\n",
       "      <td>Ewallet</td>\n",
       "      <td>604.17</td>\n",
       "      <td>4.761905</td>\n",
       "      <td>30.2085</td>\n",
       "      <td>5.3</td>\n",
       "    </tr>\n",
       "    <tr>\n",
       "      <th>...</th>\n",
       "      <td>...</td>\n",
       "      <td>...</td>\n",
       "      <td>...</td>\n",
       "      <td>...</td>\n",
       "      <td>...</td>\n",
       "      <td>...</td>\n",
       "      <td>...</td>\n",
       "      <td>...</td>\n",
       "      <td>...</td>\n",
       "      <td>...</td>\n",
       "      <td>...</td>\n",
       "      <td>...</td>\n",
       "      <td>...</td>\n",
       "      <td>...</td>\n",
       "      <td>...</td>\n",
       "      <td>...</td>\n",
       "      <td>...</td>\n",
       "    </tr>\n",
       "    <tr>\n",
       "      <th>995</th>\n",
       "      <td>233-67-5758</td>\n",
       "      <td>C</td>\n",
       "      <td>Naypyitaw</td>\n",
       "      <td>Normal</td>\n",
       "      <td>Male</td>\n",
       "      <td>Health and beauty</td>\n",
       "      <td>40.35</td>\n",
       "      <td>1</td>\n",
       "      <td>2.0175</td>\n",
       "      <td>42.3675</td>\n",
       "      <td>1/29/2019</td>\n",
       "      <td>13:46</td>\n",
       "      <td>Ewallet</td>\n",
       "      <td>40.35</td>\n",
       "      <td>4.761905</td>\n",
       "      <td>2.0175</td>\n",
       "      <td>6.2</td>\n",
       "    </tr>\n",
       "    <tr>\n",
       "      <th>996</th>\n",
       "      <td>303-96-2227</td>\n",
       "      <td>B</td>\n",
       "      <td>Mandalay</td>\n",
       "      <td>Normal</td>\n",
       "      <td>Female</td>\n",
       "      <td>Home and lifestyle</td>\n",
       "      <td>97.38</td>\n",
       "      <td>10</td>\n",
       "      <td>48.6900</td>\n",
       "      <td>1022.4900</td>\n",
       "      <td>3/2/2019</td>\n",
       "      <td>17:16</td>\n",
       "      <td>Ewallet</td>\n",
       "      <td>973.80</td>\n",
       "      <td>4.761905</td>\n",
       "      <td>48.6900</td>\n",
       "      <td>4.4</td>\n",
       "    </tr>\n",
       "    <tr>\n",
       "      <th>997</th>\n",
       "      <td>727-02-1313</td>\n",
       "      <td>A</td>\n",
       "      <td>Yangon</td>\n",
       "      <td>Member</td>\n",
       "      <td>Male</td>\n",
       "      <td>Food and beverages</td>\n",
       "      <td>31.84</td>\n",
       "      <td>1</td>\n",
       "      <td>1.5920</td>\n",
       "      <td>33.4320</td>\n",
       "      <td>2/9/2019</td>\n",
       "      <td>13:22</td>\n",
       "      <td>Cash</td>\n",
       "      <td>31.84</td>\n",
       "      <td>4.761905</td>\n",
       "      <td>1.5920</td>\n",
       "      <td>7.7</td>\n",
       "    </tr>\n",
       "    <tr>\n",
       "      <th>998</th>\n",
       "      <td>347-56-2442</td>\n",
       "      <td>A</td>\n",
       "      <td>Yangon</td>\n",
       "      <td>Normal</td>\n",
       "      <td>Male</td>\n",
       "      <td>Home and lifestyle</td>\n",
       "      <td>65.82</td>\n",
       "      <td>1</td>\n",
       "      <td>3.2910</td>\n",
       "      <td>69.1110</td>\n",
       "      <td>2/22/2019</td>\n",
       "      <td>15:33</td>\n",
       "      <td>Cash</td>\n",
       "      <td>65.82</td>\n",
       "      <td>4.761905</td>\n",
       "      <td>3.2910</td>\n",
       "      <td>4.1</td>\n",
       "    </tr>\n",
       "    <tr>\n",
       "      <th>999</th>\n",
       "      <td>849-09-3807</td>\n",
       "      <td>A</td>\n",
       "      <td>Yangon</td>\n",
       "      <td>Member</td>\n",
       "      <td>Female</td>\n",
       "      <td>Fashion accessories</td>\n",
       "      <td>88.34</td>\n",
       "      <td>7</td>\n",
       "      <td>30.9190</td>\n",
       "      <td>649.2990</td>\n",
       "      <td>2/18/2019</td>\n",
       "      <td>13:28</td>\n",
       "      <td>Cash</td>\n",
       "      <td>618.38</td>\n",
       "      <td>4.761905</td>\n",
       "      <td>30.9190</td>\n",
       "      <td>6.6</td>\n",
       "    </tr>\n",
       "  </tbody>\n",
       "</table>\n",
       "<p>1000 rows × 17 columns</p>\n",
       "</div>"
      ],
      "text/plain": [
       "      Invoice ID Branch       City Customer type  Gender  \\\n",
       "0    750-67-8428      A     Yangon        Member  Female   \n",
       "1    226-31-3081      C  Naypyitaw        Normal  Female   \n",
       "2    631-41-3108      A     Yangon        Normal    Male   \n",
       "3    123-19-1176      A     Yangon        Member    Male   \n",
       "4    373-73-7910      A     Yangon        Normal    Male   \n",
       "..           ...    ...        ...           ...     ...   \n",
       "995  233-67-5758      C  Naypyitaw        Normal    Male   \n",
       "996  303-96-2227      B   Mandalay        Normal  Female   \n",
       "997  727-02-1313      A     Yangon        Member    Male   \n",
       "998  347-56-2442      A     Yangon        Normal    Male   \n",
       "999  849-09-3807      A     Yangon        Member  Female   \n",
       "\n",
       "               Product line  Unit price  Quantity   Tax 5%      Total  \\\n",
       "0         Health and beauty       74.69         7  26.1415   548.9715   \n",
       "1    Electronic accessories       15.28         5   3.8200    80.2200   \n",
       "2        Home and lifestyle       46.33         7  16.2155   340.5255   \n",
       "3         Health and beauty       58.22         8  23.2880   489.0480   \n",
       "4         Sports and travel       86.31         7  30.2085   634.3785   \n",
       "..                      ...         ...       ...      ...        ...   \n",
       "995       Health and beauty       40.35         1   2.0175    42.3675   \n",
       "996      Home and lifestyle       97.38        10  48.6900  1022.4900   \n",
       "997      Food and beverages       31.84         1   1.5920    33.4320   \n",
       "998      Home and lifestyle       65.82         1   3.2910    69.1110   \n",
       "999     Fashion accessories       88.34         7  30.9190   649.2990   \n",
       "\n",
       "          Date   Time      Payment    cogs  gross margin percentage  \\\n",
       "0     1/5/2019  13:08      Ewallet  522.83                 4.761905   \n",
       "1     3/8/2019  10:29         Cash   76.40                 4.761905   \n",
       "2     3/3/2019  13:23  Credit card  324.31                 4.761905   \n",
       "3    1/27/2019  20:33      Ewallet  465.76                 4.761905   \n",
       "4     2/8/2019  10:37      Ewallet  604.17                 4.761905   \n",
       "..         ...    ...          ...     ...                      ...   \n",
       "995  1/29/2019  13:46      Ewallet   40.35                 4.761905   \n",
       "996   3/2/2019  17:16      Ewallet  973.80                 4.761905   \n",
       "997   2/9/2019  13:22         Cash   31.84                 4.761905   \n",
       "998  2/22/2019  15:33         Cash   65.82                 4.761905   \n",
       "999  2/18/2019  13:28         Cash  618.38                 4.761905   \n",
       "\n",
       "     gross income  Rating  \n",
       "0         26.1415     9.1  \n",
       "1          3.8200     9.6  \n",
       "2         16.2155     7.4  \n",
       "3         23.2880     8.4  \n",
       "4         30.2085     5.3  \n",
       "..            ...     ...  \n",
       "995        2.0175     6.2  \n",
       "996       48.6900     4.4  \n",
       "997        1.5920     7.7  \n",
       "998        3.2910     4.1  \n",
       "999       30.9190     6.6  \n",
       "\n",
       "[1000 rows x 17 columns]"
      ]
     },
     "execution_count": 5,
     "metadata": {},
     "output_type": "execute_result"
    }
   ],
   "source": [
    "import pandas as pd\n",
    "from scipy import stats\n",
    "import numpy as np\n",
    "import seaborn as sns\n",
    "\n",
    "sales= pd.read_csv('supermarket_sales_-_Sheet1.csv')\n",
    "sales"
   ]
  },
  {
   "cell_type": "markdown",
   "id": "3984d6cd",
   "metadata": {},
   "source": [
    "Посмотрим первые 5 строк:"
   ]
  },
  {
   "cell_type": "code",
   "execution_count": 117,
   "id": "38d14151",
   "metadata": {},
   "outputs": [
    {
     "data": {
      "text/html": [
       "<div>\n",
       "<style scoped>\n",
       "    .dataframe tbody tr th:only-of-type {\n",
       "        vertical-align: middle;\n",
       "    }\n",
       "\n",
       "    .dataframe tbody tr th {\n",
       "        vertical-align: top;\n",
       "    }\n",
       "\n",
       "    .dataframe thead th {\n",
       "        text-align: right;\n",
       "    }\n",
       "</style>\n",
       "<table border=\"1\" class=\"dataframe\">\n",
       "  <thead>\n",
       "    <tr style=\"text-align: right;\">\n",
       "      <th></th>\n",
       "      <th>Invoice ID</th>\n",
       "      <th>Branch</th>\n",
       "      <th>City</th>\n",
       "      <th>Customer type</th>\n",
       "      <th>Gender</th>\n",
       "      <th>Product line</th>\n",
       "      <th>Unit price</th>\n",
       "      <th>Quantity</th>\n",
       "      <th>Tax 5%</th>\n",
       "      <th>Total</th>\n",
       "      <th>Date</th>\n",
       "      <th>Time</th>\n",
       "      <th>Payment</th>\n",
       "      <th>cogs</th>\n",
       "      <th>gross margin percentage</th>\n",
       "      <th>gross income</th>\n",
       "      <th>Rating</th>\n",
       "    </tr>\n",
       "  </thead>\n",
       "  <tbody>\n",
       "    <tr>\n",
       "      <th>0</th>\n",
       "      <td>750-67-8428</td>\n",
       "      <td>A</td>\n",
       "      <td>Yangon</td>\n",
       "      <td>Member</td>\n",
       "      <td>Female</td>\n",
       "      <td>Health and beauty</td>\n",
       "      <td>74.69</td>\n",
       "      <td>7</td>\n",
       "      <td>26.1415</td>\n",
       "      <td>548.9715</td>\n",
       "      <td>1/5/2019</td>\n",
       "      <td>13:08</td>\n",
       "      <td>Ewallet</td>\n",
       "      <td>522.83</td>\n",
       "      <td>4.761905</td>\n",
       "      <td>26.1415</td>\n",
       "      <td>9.1</td>\n",
       "    </tr>\n",
       "    <tr>\n",
       "      <th>1</th>\n",
       "      <td>226-31-3081</td>\n",
       "      <td>C</td>\n",
       "      <td>Naypyitaw</td>\n",
       "      <td>Normal</td>\n",
       "      <td>Female</td>\n",
       "      <td>Electronic accessories</td>\n",
       "      <td>15.28</td>\n",
       "      <td>5</td>\n",
       "      <td>3.8200</td>\n",
       "      <td>80.2200</td>\n",
       "      <td>3/8/2019</td>\n",
       "      <td>10:29</td>\n",
       "      <td>Cash</td>\n",
       "      <td>76.40</td>\n",
       "      <td>4.761905</td>\n",
       "      <td>3.8200</td>\n",
       "      <td>9.6</td>\n",
       "    </tr>\n",
       "    <tr>\n",
       "      <th>2</th>\n",
       "      <td>631-41-3108</td>\n",
       "      <td>A</td>\n",
       "      <td>Yangon</td>\n",
       "      <td>Normal</td>\n",
       "      <td>Male</td>\n",
       "      <td>Home and lifestyle</td>\n",
       "      <td>46.33</td>\n",
       "      <td>7</td>\n",
       "      <td>16.2155</td>\n",
       "      <td>340.5255</td>\n",
       "      <td>3/3/2019</td>\n",
       "      <td>13:23</td>\n",
       "      <td>Credit card</td>\n",
       "      <td>324.31</td>\n",
       "      <td>4.761905</td>\n",
       "      <td>16.2155</td>\n",
       "      <td>7.4</td>\n",
       "    </tr>\n",
       "    <tr>\n",
       "      <th>3</th>\n",
       "      <td>123-19-1176</td>\n",
       "      <td>A</td>\n",
       "      <td>Yangon</td>\n",
       "      <td>Member</td>\n",
       "      <td>Male</td>\n",
       "      <td>Health and beauty</td>\n",
       "      <td>58.22</td>\n",
       "      <td>8</td>\n",
       "      <td>23.2880</td>\n",
       "      <td>489.0480</td>\n",
       "      <td>1/27/2019</td>\n",
       "      <td>20:33</td>\n",
       "      <td>Ewallet</td>\n",
       "      <td>465.76</td>\n",
       "      <td>4.761905</td>\n",
       "      <td>23.2880</td>\n",
       "      <td>8.4</td>\n",
       "    </tr>\n",
       "    <tr>\n",
       "      <th>4</th>\n",
       "      <td>373-73-7910</td>\n",
       "      <td>A</td>\n",
       "      <td>Yangon</td>\n",
       "      <td>Normal</td>\n",
       "      <td>Male</td>\n",
       "      <td>Sports and travel</td>\n",
       "      <td>86.31</td>\n",
       "      <td>7</td>\n",
       "      <td>30.2085</td>\n",
       "      <td>634.3785</td>\n",
       "      <td>2/8/2019</td>\n",
       "      <td>10:37</td>\n",
       "      <td>Ewallet</td>\n",
       "      <td>604.17</td>\n",
       "      <td>4.761905</td>\n",
       "      <td>30.2085</td>\n",
       "      <td>5.3</td>\n",
       "    </tr>\n",
       "  </tbody>\n",
       "</table>\n",
       "</div>"
      ],
      "text/plain": [
       "    Invoice ID Branch       City Customer type  Gender  \\\n",
       "0  750-67-8428      A     Yangon        Member  Female   \n",
       "1  226-31-3081      C  Naypyitaw        Normal  Female   \n",
       "2  631-41-3108      A     Yangon        Normal    Male   \n",
       "3  123-19-1176      A     Yangon        Member    Male   \n",
       "4  373-73-7910      A     Yangon        Normal    Male   \n",
       "\n",
       "             Product line  Unit price  Quantity   Tax 5%     Total       Date  \\\n",
       "0       Health and beauty       74.69         7  26.1415  548.9715   1/5/2019   \n",
       "1  Electronic accessories       15.28         5   3.8200   80.2200   3/8/2019   \n",
       "2      Home and lifestyle       46.33         7  16.2155  340.5255   3/3/2019   \n",
       "3       Health and beauty       58.22         8  23.2880  489.0480  1/27/2019   \n",
       "4       Sports and travel       86.31         7  30.2085  634.3785   2/8/2019   \n",
       "\n",
       "    Time      Payment    cogs  gross margin percentage  gross income  Rating  \n",
       "0  13:08      Ewallet  522.83                 4.761905       26.1415     9.1  \n",
       "1  10:29         Cash   76.40                 4.761905        3.8200     9.6  \n",
       "2  13:23  Credit card  324.31                 4.761905       16.2155     7.4  \n",
       "3  20:33      Ewallet  465.76                 4.761905       23.2880     8.4  \n",
       "4  10:37      Ewallet  604.17                 4.761905       30.2085     5.3  "
      ]
     },
     "execution_count": 117,
     "metadata": {},
     "output_type": "execute_result"
    }
   ],
   "source": [
    "sales.head() "
   ]
  },
  {
   "cell_type": "markdown",
   "id": "675291aa",
   "metadata": {},
   "source": [
    "Проверим на недостающие значения"
   ]
  },
  {
   "cell_type": "code",
   "execution_count": 47,
   "id": "8af9d19b",
   "metadata": {},
   "outputs": [
    {
     "data": {
      "text/plain": [
       "Invoice ID       0\n",
       "Branch           0\n",
       "City             0\n",
       "Customer type    0\n",
       "Gender           0\n",
       "Product line     0\n",
       "Unit price       0\n",
       "Quantity         0\n",
       "Tax 5%           0\n",
       "Total            0\n",
       "Date             0\n",
       "Time             0\n",
       "Payment          0\n",
       "cogs             0\n",
       "gross income     0\n",
       "Rating           0\n",
       "dtype: int64"
      ]
     },
     "execution_count": 47,
     "metadata": {},
     "output_type": "execute_result"
    }
   ],
   "source": [
    "sales.isna().sum()"
   ]
  },
  {
   "cell_type": "markdown",
   "id": "fe39611f",
   "metadata": {},
   "source": [
    "Основная информация о данных датасета:"
   ]
  },
  {
   "cell_type": "code",
   "execution_count": 48,
   "id": "d097851f",
   "metadata": {},
   "outputs": [
    {
     "name": "stdout",
     "output_type": "stream",
     "text": [
      "<class 'pandas.core.frame.DataFrame'>\n",
      "RangeIndex: 1000 entries, 0 to 999\n",
      "Data columns (total 16 columns):\n",
      " #   Column         Non-Null Count  Dtype  \n",
      "---  ------         --------------  -----  \n",
      " 0   Invoice ID     1000 non-null   object \n",
      " 1   Branch         1000 non-null   object \n",
      " 2   City           1000 non-null   object \n",
      " 3   Customer type  1000 non-null   object \n",
      " 4   Gender         1000 non-null   object \n",
      " 5   Product line   1000 non-null   object \n",
      " 6   Unit price     1000 non-null   float64\n",
      " 7   Quantity       1000 non-null   int64  \n",
      " 8   Tax 5%         1000 non-null   float64\n",
      " 9   Total          1000 non-null   float64\n",
      " 10  Date           1000 non-null   object \n",
      " 11  Time           1000 non-null   object \n",
      " 12  Payment        1000 non-null   object \n",
      " 13  cogs           1000 non-null   float64\n",
      " 14  gross income   1000 non-null   float64\n",
      " 15  Rating         1000 non-null   float64\n",
      "dtypes: float64(6), int64(1), object(9)\n",
      "memory usage: 125.1+ KB\n"
     ]
    }
   ],
   "source": [
    "sales.info()"
   ]
  },
  {
   "cell_type": "markdown",
   "id": "e1d54b2b",
   "metadata": {},
   "source": [
    "Количество строк и ячеек:"
   ]
  },
  {
   "cell_type": "code",
   "execution_count": 3,
   "id": "f247452f",
   "metadata": {},
   "outputs": [
    {
     "data": {
      "text/plain": [
       "(1000, 17)"
      ]
     },
     "execution_count": 3,
     "metadata": {},
     "output_type": "execute_result"
    }
   ],
   "source": [
    "sales.shape"
   ]
  },
  {
   "cell_type": "markdown",
   "id": "16e021a3",
   "metadata": {},
   "source": [
    "Видим, что обработка недостающих значений не требуется, данные уже чистые."
   ]
  },
  {
   "cell_type": "markdown",
   "id": "7fea5831",
   "metadata": {},
   "source": [
    "# Поиск аутлайеров"
   ]
  },
  {
   "cell_type": "markdown",
   "id": "972bf39c",
   "metadata": {},
   "source": [
    "Нас интересуют особо прибыльные и особо неприбыльные покупки."
   ]
  },
  {
   "cell_type": "code",
   "execution_count": 30,
   "id": "11acdcf6",
   "metadata": {},
   "outputs": [
    {
     "data": {
      "text/html": [
       "<div>\n",
       "<style scoped>\n",
       "    .dataframe tbody tr th:only-of-type {\n",
       "        vertical-align: middle;\n",
       "    }\n",
       "\n",
       "    .dataframe tbody tr th {\n",
       "        vertical-align: top;\n",
       "    }\n",
       "\n",
       "    .dataframe thead th {\n",
       "        text-align: right;\n",
       "    }\n",
       "</style>\n",
       "<table border=\"1\" class=\"dataframe\">\n",
       "  <thead>\n",
       "    <tr style=\"text-align: right;\">\n",
       "      <th></th>\n",
       "      <th>Invoice ID</th>\n",
       "      <th>Branch</th>\n",
       "      <th>City</th>\n",
       "      <th>Customer type</th>\n",
       "      <th>Gender</th>\n",
       "      <th>Product line</th>\n",
       "      <th>Unit price</th>\n",
       "      <th>Quantity</th>\n",
       "      <th>Tax 5%</th>\n",
       "      <th>Total</th>\n",
       "      <th>Date</th>\n",
       "      <th>Time</th>\n",
       "      <th>Payment</th>\n",
       "      <th>cogs</th>\n",
       "      <th>gross margin percentage</th>\n",
       "      <th>gross income</th>\n",
       "      <th>Rating</th>\n",
       "    </tr>\n",
       "  </thead>\n",
       "  <tbody>\n",
       "  </tbody>\n",
       "</table>\n",
       "</div>"
      ],
      "text/plain": [
       "Empty DataFrame\n",
       "Columns: [Invoice ID, Branch, City, Customer type, Gender, Product line, Unit price, Quantity, Tax 5%, Total, Date, Time, Payment, cogs, gross margin percentage, gross income, Rating]\n",
       "Index: []"
      ]
     },
     "execution_count": 30,
     "metadata": {},
     "output_type": "execute_result"
    }
   ],
   "source": [
    "sales[(np.abs(stats.zscore(sales['gross margin percentage'])) > 2)]"
   ]
  },
  {
   "cell_type": "markdown",
   "id": "5f5b57db",
   "metadata": {},
   "source": [
    "Мы видим неожиданный результат. Может быть, с колонкой gross margin percentage что-то не так?"
   ]
  },
  {
   "cell_type": "code",
   "execution_count": 31,
   "id": "723001a3",
   "metadata": {},
   "outputs": [
    {
     "data": {
      "text/plain": [
       "array([4.76190476])"
      ]
     },
     "execution_count": 31,
     "metadata": {},
     "output_type": "execute_result"
    }
   ],
   "source": [
    "sales['gross margin percentage'].unique()"
   ]
  },
  {
   "cell_type": "markdown",
   "id": "4770db97",
   "metadata": {},
   "source": [
    "Опасения подтвердились - колонка заполнена одинаковым числом. В реальном мире так не бывает, чтобы все товары приносили ровно одинаковую прибыль. Возможно, данные синтетические. Удалим эту колонку и проверим, что других таких колонок в датасете нет."
   ]
  },
  {
   "cell_type": "code",
   "execution_count": 33,
   "id": "b9997cae",
   "metadata": {},
   "outputs": [
    {
     "data": {
      "text/plain": [
       "Invoice ID       1000\n",
       "Branch              3\n",
       "City                3\n",
       "Customer type       2\n",
       "Gender              2\n",
       "Product line        6\n",
       "Unit price        943\n",
       "Quantity           10\n",
       "Tax 5%            990\n",
       "Total             990\n",
       "Date               89\n",
       "Time              506\n",
       "Payment             3\n",
       "cogs              990\n",
       "gross income      990\n",
       "Rating             61\n",
       "dtype: int64"
      ]
     },
     "execution_count": 33,
     "metadata": {},
     "output_type": "execute_result"
    }
   ],
   "source": [
    "sales = sales.drop(columns='gross margin percentage')\n",
    "sales.nunique()"
   ]
  },
  {
   "cell_type": "markdown",
   "id": "52fcba9a",
   "metadata": {},
   "source": [
    "Проверим, что gross margin percentage действительно правильно считалась."
   ]
  },
  {
   "cell_type": "code",
   "execution_count": 34,
   "id": "2bde5dea",
   "metadata": {},
   "outputs": [
    {
     "data": {
      "text/plain": [
       "0      0.047619\n",
       "1      0.047619\n",
       "2      0.047619\n",
       "3      0.047619\n",
       "4      0.047619\n",
       "         ...   \n",
       "995    0.047619\n",
       "996    0.047619\n",
       "997    0.047619\n",
       "998    0.047619\n",
       "999    0.047619\n",
       "Length: 1000, dtype: float64"
      ]
     },
     "execution_count": 34,
     "metadata": {},
     "output_type": "execute_result"
    }
   ],
   "source": [
    "(sales['Total']-sales['cogs'])/sales['Total']"
   ]
  },
  {
   "cell_type": "markdown",
   "id": "409aa80a",
   "metadata": {},
   "source": [
    "Посмотрим на покупки, общая стоимость которых превышает среднюю на 2 и 3 стандартных отклонения"
   ]
  },
  {
   "cell_type": "code",
   "execution_count": 50,
   "id": "6c4bcae1",
   "metadata": {},
   "outputs": [
    {
     "data": {
      "text/plain": [
       "53"
      ]
     },
     "execution_count": 50,
     "metadata": {},
     "output_type": "execute_result"
    }
   ],
   "source": [
    "best_buys = sales[(stats.zscore(sales['Total'])>2)]\n",
    "best_buys['Total'].count()"
   ]
  },
  {
   "cell_type": "code",
   "execution_count": 51,
   "id": "f0a5343c",
   "metadata": {},
   "outputs": [
    {
     "data": {
      "text/plain": [
       "0"
      ]
     },
     "execution_count": 51,
     "metadata": {},
     "output_type": "execute_result"
    }
   ],
   "source": [
    "best_buys = sales[(stats.zscore(sales['Total'])>3)]\n",
    "best_buys['Total'].count()"
   ]
  },
  {
   "cell_type": "markdown",
   "id": "01a34770",
   "metadata": {},
   "source": [
    "Построим гистограмму общей стоимости"
   ]
  },
  {
   "cell_type": "code",
   "execution_count": 116,
   "id": "4d6ea3cf",
   "metadata": {},
   "outputs": [
    {
     "name": "stderr",
     "output_type": "stream",
     "text": [
      "/tmp/ipykernel_5637/3469629962.py:1: UserWarning: \n",
      "\n",
      "`distplot` is a deprecated function and will be removed in seaborn v0.14.0.\n",
      "\n",
      "Please adapt your code to use either `displot` (a figure-level function with\n",
      "similar flexibility) or `histplot` (an axes-level function for histograms).\n",
      "\n",
      "For a guide to updating your code to use the new functions, please see\n",
      "https://gist.github.com/mwaskom/de44147ed2974457ad6372750bbe5751\n",
      "\n",
      "  sns.distplot(sales['Total'],bins=50)\n"
     ]
    },
    {
     "data": {
      "text/plain": [
       "<AxesSubplot:xlabel='Total', ylabel='Density'>"
      ]
     },
     "execution_count": 116,
     "metadata": {},
     "output_type": "execute_result"
    },
    {
     "data": {
      "image/png": "[encoded data removed]",
      "text/plain": [
       "<Figure size 640x480 with 1 Axes>"
      ]
     },
     "metadata": {},
     "output_type": "display_data"
    }
   ],
   "source": [
    "sns.distplot(sales['Total'],bins=50)"
   ]
  },
  {
   "cell_type": "markdown",
   "id": "b0470d16",
   "metadata": {},
   "source": [
    "# Корреляционная матрица числовых столбцов"
   ]
  },
  {
   "cell_type": "markdown",
   "id": "abb362e0",
   "metadata": {},
   "source": [
    "Построим визуализацию корреляционной матрицы"
   ]
  },
  {
   "cell_type": "code",
   "execution_count": 61,
   "id": "0a838e62",
   "metadata": {
    "scrolled": true
   },
   "outputs": [
    {
     "data": {
      "text/plain": [
       "<AxesSubplot:>"
      ]
     },
     "execution_count": 61,
     "metadata": {},
     "output_type": "execute_result"
    },
    {
     "data": {
      "image/png": "[encoded data removed]",
      "text/plain": [
       "<Figure size 640x480 with 2 Axes>"
      ]
     },
     "metadata": {},
     "output_type": "display_data"
    }
   ],
   "source": [
    "import seaborn as sns\n",
    "sns.heatmap(sales.corr())"
   ]
  },
  {
   "cell_type": "code",
   "execution_count": 60,
   "id": "c717df15",
   "metadata": {},
   "outputs": [
    {
     "data": {
      "text/html": [
       "<div>\n",
       "<style scoped>\n",
       "    .dataframe tbody tr th:only-of-type {\n",
       "        vertical-align: middle;\n",
       "    }\n",
       "\n",
       "    .dataframe tbody tr th {\n",
       "        vertical-align: top;\n",
       "    }\n",
       "\n",
       "    .dataframe thead th {\n",
       "        text-align: right;\n",
       "    }\n",
       "</style>\n",
       "<table border=\"1\" class=\"dataframe\">\n",
       "  <thead>\n",
       "    <tr style=\"text-align: right;\">\n",
       "      <th></th>\n",
       "      <th>Unit price</th>\n",
       "      <th>Quantity</th>\n",
       "      <th>Tax 5%</th>\n",
       "      <th>Total</th>\n",
       "      <th>cogs</th>\n",
       "      <th>gross income</th>\n",
       "      <th>Rating</th>\n",
       "    </tr>\n",
       "  </thead>\n",
       "  <tbody>\n",
       "    <tr>\n",
       "      <th>Unit price</th>\n",
       "      <td>1.000000</td>\n",
       "      <td>0.010778</td>\n",
       "      <td>0.633962</td>\n",
       "      <td>0.633962</td>\n",
       "      <td>0.633962</td>\n",
       "      <td>0.633962</td>\n",
       "      <td>-0.008778</td>\n",
       "    </tr>\n",
       "    <tr>\n",
       "      <th>Quantity</th>\n",
       "      <td>0.010778</td>\n",
       "      <td>1.000000</td>\n",
       "      <td>0.705510</td>\n",
       "      <td>0.705510</td>\n",
       "      <td>0.705510</td>\n",
       "      <td>0.705510</td>\n",
       "      <td>-0.015815</td>\n",
       "    </tr>\n",
       "    <tr>\n",
       "      <th>Tax 5%</th>\n",
       "      <td>0.633962</td>\n",
       "      <td>0.705510</td>\n",
       "      <td>1.000000</td>\n",
       "      <td>1.000000</td>\n",
       "      <td>1.000000</td>\n",
       "      <td>1.000000</td>\n",
       "      <td>-0.036442</td>\n",
       "    </tr>\n",
       "    <tr>\n",
       "      <th>Total</th>\n",
       "      <td>0.633962</td>\n",
       "      <td>0.705510</td>\n",
       "      <td>1.000000</td>\n",
       "      <td>1.000000</td>\n",
       "      <td>1.000000</td>\n",
       "      <td>1.000000</td>\n",
       "      <td>-0.036442</td>\n",
       "    </tr>\n",
       "    <tr>\n",
       "      <th>cogs</th>\n",
       "      <td>0.633962</td>\n",
       "      <td>0.705510</td>\n",
       "      <td>1.000000</td>\n",
       "      <td>1.000000</td>\n",
       "      <td>1.000000</td>\n",
       "      <td>1.000000</td>\n",
       "      <td>-0.036442</td>\n",
       "    </tr>\n",
       "    <tr>\n",
       "      <th>gross income</th>\n",
       "      <td>0.633962</td>\n",
       "      <td>0.705510</td>\n",
       "      <td>1.000000</td>\n",
       "      <td>1.000000</td>\n",
       "      <td>1.000000</td>\n",
       "      <td>1.000000</td>\n",
       "      <td>-0.036442</td>\n",
       "    </tr>\n",
       "    <tr>\n",
       "      <th>Rating</th>\n",
       "      <td>-0.008778</td>\n",
       "      <td>-0.015815</td>\n",
       "      <td>-0.036442</td>\n",
       "      <td>-0.036442</td>\n",
       "      <td>-0.036442</td>\n",
       "      <td>-0.036442</td>\n",
       "      <td>1.000000</td>\n",
       "    </tr>\n",
       "  </tbody>\n",
       "</table>\n",
       "</div>"
      ],
      "text/plain": [
       "              Unit price  Quantity    Tax 5%     Total      cogs  \\\n",
       "Unit price      1.000000  0.010778  0.633962  0.633962  0.633962   \n",
       "Quantity        0.010778  1.000000  0.705510  0.705510  0.705510   \n",
       "Tax 5%          0.633962  0.705510  1.000000  1.000000  1.000000   \n",
       "Total           0.633962  0.705510  1.000000  1.000000  1.000000   \n",
       "cogs            0.633962  0.705510  1.000000  1.000000  1.000000   \n",
       "gross income    0.633962  0.705510  1.000000  1.000000  1.000000   \n",
       "Rating         -0.008778 -0.015815 -0.036442 -0.036442 -0.036442   \n",
       "\n",
       "              gross income    Rating  \n",
       "Unit price        0.633962 -0.008778  \n",
       "Quantity          0.705510 -0.015815  \n",
       "Tax 5%            1.000000 -0.036442  \n",
       "Total             1.000000 -0.036442  \n",
       "cogs              1.000000 -0.036442  \n",
       "gross income      1.000000 -0.036442  \n",
       "Rating           -0.036442  1.000000  "
      ]
     },
     "execution_count": 60,
     "metadata": {},
     "output_type": "execute_result"
    }
   ],
   "source": [
    "sales.corr()"
   ]
  },
  {
   "cell_type": "markdown",
   "id": "a50d8ae1",
   "metadata": {},
   "source": [
    "Вывод: числовые значения в столбцах \"Tax 5%\", \"Total\", \"cogs\", \"gross income\" не просто сильно скоррелированы, но и линейно зависимы. Можно удалить все, кроме одного из этих столбцов. Оставим Total."
   ]
  },
  {
   "cell_type": "code",
   "execution_count": 62,
   "id": "406fcec4",
   "metadata": {},
   "outputs": [],
   "source": [
    "sales = sales.drop(columns=['gross income','cogs','Tax 5%'])"
   ]
  },
  {
   "cell_type": "markdown",
   "id": "628170df",
   "metadata": {},
   "source": [
    "# Данные по отдельным столбцам:"
   ]
  },
  {
   "cell_type": "markdown",
   "id": "965695c6",
   "metadata": {},
   "source": [
    "Найдём, сколько данных у нас по отдельным городам:"
   ]
  },
  {
   "cell_type": "code",
   "execution_count": 63,
   "id": "96868141",
   "metadata": {
    "scrolled": true
   },
   "outputs": [
    {
     "data": {
      "text/plain": [
       "Yangon       340\n",
       "Mandalay     332\n",
       "Naypyitaw    328\n",
       "Name: City, dtype: int64"
      ]
     },
     "execution_count": 63,
     "metadata": {},
     "output_type": "execute_result"
    }
   ],
   "source": [
    "sales['City'].value_counts()"
   ]
  },
  {
   "cell_type": "markdown",
   "id": "e516e898",
   "metadata": {},
   "source": [
    "Найдём, сколько данных у нас по статусам покупателей:"
   ]
  },
  {
   "cell_type": "code",
   "execution_count": 64,
   "id": "8989945c",
   "metadata": {
    "scrolled": false
   },
   "outputs": [
    {
     "data": {
      "text/plain": [
       "Member    501\n",
       "Normal    499\n",
       "Name: Customer type, dtype: int64"
      ]
     },
     "execution_count": 64,
     "metadata": {},
     "output_type": "execute_result"
    }
   ],
   "source": [
    "sales['Customer type'].value_counts()"
   ]
  },
  {
   "cell_type": "markdown",
   "id": "7e35cc2d",
   "metadata": {},
   "source": [
    "Найдём, сколько данных у нас по категориям продуктов:"
   ]
  },
  {
   "cell_type": "code",
   "execution_count": 65,
   "id": "405f26e7",
   "metadata": {
    "scrolled": false
   },
   "outputs": [
    {
     "data": {
      "text/plain": [
       "Fashion accessories       178\n",
       "Food and beverages        174\n",
       "Electronic accessories    170\n",
       "Sports and travel         166\n",
       "Home and lifestyle        160\n",
       "Health and beauty         152\n",
       "Name: Product line, dtype: int64"
      ]
     },
     "execution_count": 65,
     "metadata": {},
     "output_type": "execute_result"
    }
   ],
   "source": [
    "sales['Product line'].value_counts()"
   ]
  },
  {
   "cell_type": "markdown",
   "id": "f8862868",
   "metadata": {},
   "source": [
    "Посмотрим какая у нас самая низка и высокая цена за единицу товара, для этого проранжируем данные по возрастанию:"
   ]
  },
  {
   "cell_type": "code",
   "execution_count": 66,
   "id": "73071950",
   "metadata": {},
   "outputs": [
    {
     "data": {
      "text/plain": [
       "944    10.08\n",
       "572    10.13\n",
       "784    10.16\n",
       "822    10.17\n",
       "881    10.18\n",
       "       ...  \n",
       "283    99.83\n",
       "494    99.89\n",
       "930    99.92\n",
       "122    99.96\n",
       "983    99.96\n",
       "Name: Unit price, Length: 1000, dtype: float64"
      ]
     },
     "execution_count": 66,
     "metadata": {},
     "output_type": "execute_result"
    }
   ],
   "source": [
    "sales['Unit price'].sort_values(ascending=True)"
   ]
  },
  {
   "cell_type": "markdown",
   "id": "67140d78",
   "metadata": {},
   "source": [
    "Попробуем вычислить зависимость категории покупок от гендера:\n"
   ]
  },
  {
   "cell_type": "code",
   "execution_count": 67,
   "id": "6d4137be",
   "metadata": {
    "scrolled": true
   },
   "outputs": [
    {
     "data": {
      "text/html": [
       "<div>\n",
       "<style scoped>\n",
       "    .dataframe tbody tr th:only-of-type {\n",
       "        vertical-align: middle;\n",
       "    }\n",
       "\n",
       "    .dataframe tbody tr th {\n",
       "        vertical-align: top;\n",
       "    }\n",
       "\n",
       "    .dataframe thead th {\n",
       "        text-align: right;\n",
       "    }\n",
       "</style>\n",
       "<table border=\"1\" class=\"dataframe\">\n",
       "  <thead>\n",
       "    <tr style=\"text-align: right;\">\n",
       "      <th>Gender</th>\n",
       "      <th>Female</th>\n",
       "      <th>Male</th>\n",
       "    </tr>\n",
       "    <tr>\n",
       "      <th>Product line</th>\n",
       "      <th></th>\n",
       "      <th></th>\n",
       "    </tr>\n",
       "  </thead>\n",
       "  <tbody>\n",
       "    <tr>\n",
       "      <th>Electronic accessories</th>\n",
       "      <td>84</td>\n",
       "      <td>86</td>\n",
       "    </tr>\n",
       "    <tr>\n",
       "      <th>Fashion accessories</th>\n",
       "      <td>96</td>\n",
       "      <td>82</td>\n",
       "    </tr>\n",
       "    <tr>\n",
       "      <th>Food and beverages</th>\n",
       "      <td>90</td>\n",
       "      <td>84</td>\n",
       "    </tr>\n",
       "    <tr>\n",
       "      <th>Health and beauty</th>\n",
       "      <td>64</td>\n",
       "      <td>88</td>\n",
       "    </tr>\n",
       "    <tr>\n",
       "      <th>Home and lifestyle</th>\n",
       "      <td>79</td>\n",
       "      <td>81</td>\n",
       "    </tr>\n",
       "    <tr>\n",
       "      <th>Sports and travel</th>\n",
       "      <td>88</td>\n",
       "      <td>78</td>\n",
       "    </tr>\n",
       "  </tbody>\n",
       "</table>\n",
       "</div>"
      ],
      "text/plain": [
       "Gender                  Female  Male\n",
       "Product line                        \n",
       "Electronic accessories      84    86\n",
       "Fashion accessories         96    82\n",
       "Food and beverages          90    84\n",
       "Health and beauty           64    88\n",
       "Home and lifestyle          79    81\n",
       "Sports and travel           88    78"
      ]
     },
     "execution_count": 67,
     "metadata": {},
     "output_type": "execute_result"
    }
   ],
   "source": [
    "sales.groupby('Product line')['Gender'].value_counts().unstack()"
   ]
  },
  {
   "cell_type": "markdown",
   "id": "fd893782",
   "metadata": {},
   "source": [
    "Получаем, что женщины чаще всего приобретают аксессуары и реже всего товары для красоты и здоровья, а мужчины, наоборот, покупают средства для красоты и реже всего отдают предпочтение товарам для спорта и путешествия."
   ]
  },
  {
   "cell_type": "markdown",
   "id": "c84fa439",
   "metadata": {},
   "source": [
    "Попробуем визуализировать зависимость покупки продуктов определённой линейки от гендера:"
   ]
  },
  {
   "cell_type": "code",
   "execution_count": 68,
   "id": "571cc0d6",
   "metadata": {
    "scrolled": true
   },
   "outputs": [
    {
     "data": {
      "text/plain": [
       "<AxesSubplot:xlabel='Gender,Product line'>"
      ]
     },
     "execution_count": 68,
     "metadata": {},
     "output_type": "execute_result"
    },
    {
     "data": {
      "image/png": "[encoded data removed]",
      "text/plain": [
       "<Figure size 640x480 with 1 Axes>"
      ]
     },
     "metadata": {},
     "output_type": "display_data"
    }
   ],
   "source": [
    "sales.groupby('Gender')['Product line'].value_counts().plot(kind='bar')"
   ]
  },
  {
   "cell_type": "markdown",
   "id": "df038e90",
   "metadata": {},
   "source": [
    "Теперь выявим взаимосвязь между городами и категориями товаров: "
   ]
  },
  {
   "cell_type": "code",
   "execution_count": 69,
   "id": "e1cff88b",
   "metadata": {},
   "outputs": [
    {
     "data": {
      "text/html": [
       "<div>\n",
       "<style scoped>\n",
       "    .dataframe tbody tr th:only-of-type {\n",
       "        vertical-align: middle;\n",
       "    }\n",
       "\n",
       "    .dataframe tbody tr th {\n",
       "        vertical-align: top;\n",
       "    }\n",
       "\n",
       "    .dataframe thead th {\n",
       "        text-align: right;\n",
       "    }\n",
       "</style>\n",
       "<table border=\"1\" class=\"dataframe\">\n",
       "  <thead>\n",
       "    <tr style=\"text-align: right;\">\n",
       "      <th>City</th>\n",
       "      <th>Mandalay</th>\n",
       "      <th>Naypyitaw</th>\n",
       "      <th>Yangon</th>\n",
       "    </tr>\n",
       "    <tr>\n",
       "      <th>Product line</th>\n",
       "      <th></th>\n",
       "      <th></th>\n",
       "      <th></th>\n",
       "    </tr>\n",
       "  </thead>\n",
       "  <tbody>\n",
       "    <tr>\n",
       "      <th>Electronic accessories</th>\n",
       "      <td>55</td>\n",
       "      <td>55</td>\n",
       "      <td>60</td>\n",
       "    </tr>\n",
       "    <tr>\n",
       "      <th>Fashion accessories</th>\n",
       "      <td>62</td>\n",
       "      <td>65</td>\n",
       "      <td>51</td>\n",
       "    </tr>\n",
       "    <tr>\n",
       "      <th>Food and beverages</th>\n",
       "      <td>50</td>\n",
       "      <td>66</td>\n",
       "      <td>58</td>\n",
       "    </tr>\n",
       "    <tr>\n",
       "      <th>Health and beauty</th>\n",
       "      <td>53</td>\n",
       "      <td>52</td>\n",
       "      <td>47</td>\n",
       "    </tr>\n",
       "    <tr>\n",
       "      <th>Home and lifestyle</th>\n",
       "      <td>50</td>\n",
       "      <td>45</td>\n",
       "      <td>65</td>\n",
       "    </tr>\n",
       "    <tr>\n",
       "      <th>Sports and travel</th>\n",
       "      <td>62</td>\n",
       "      <td>45</td>\n",
       "      <td>59</td>\n",
       "    </tr>\n",
       "  </tbody>\n",
       "</table>\n",
       "</div>"
      ],
      "text/plain": [
       "City                    Mandalay  Naypyitaw  Yangon\n",
       "Product line                                       \n",
       "Electronic accessories        55         55      60\n",
       "Fashion accessories           62         65      51\n",
       "Food and beverages            50         66      58\n",
       "Health and beauty             53         52      47\n",
       "Home and lifestyle            50         45      65\n",
       "Sports and travel             62         45      59"
      ]
     },
     "execution_count": 69,
     "metadata": {},
     "output_type": "execute_result"
    }
   ],
   "source": [
    "sales.groupby('Product line')['City'].value_counts().unstack()"
   ]
  },
  {
   "cell_type": "markdown",
   "id": "20f84a51",
   "metadata": {},
   "source": [
    "Итог: согласно данным, в Мандалайе наибольшим спросом пользуются товары для спорта, в Нейпьидо- еда, в Янгоне- товары для дома."
   ]
  },
  {
   "cell_type": "markdown",
   "id": "4112d90a",
   "metadata": {},
   "source": [
    "Сравним данные по общей выручке в городах:"
   ]
  },
  {
   "cell_type": "code",
   "execution_count": 70,
   "id": "f7ddd88d",
   "metadata": {},
   "outputs": [
    {
     "data": {
      "text/plain": [
       "City\n",
       "Mandalay     106197.6720\n",
       "Naypyitaw    110568.7065\n",
       "Yangon       106200.3705\n",
       "Name: Total, dtype: float64"
      ]
     },
     "execution_count": 70,
     "metadata": {},
     "output_type": "execute_result"
    }
   ],
   "source": [
    "sales.groupby('City')['Total'].sum()"
   ]
  },
  {
   "cell_type": "markdown",
   "id": "54b60460",
   "metadata": {},
   "source": [
    "Добавим к полученным данным третий столбец с гендером:"
   ]
  },
  {
   "cell_type": "code",
   "execution_count": 71,
   "id": "2e3048b1",
   "metadata": {
    "scrolled": true
   },
   "outputs": [
    {
     "data": {
      "text/plain": [
       "City       Gender\n",
       "Mandalay   Female    52928.2950\n",
       "           Male      53269.3770\n",
       "Naypyitaw  Female    61685.4630\n",
       "           Male      48883.2435\n",
       "Yangon     Female    53269.1670\n",
       "           Male      52931.2035\n",
       "Name: Total, dtype: float64"
      ]
     },
     "execution_count": 71,
     "metadata": {},
     "output_type": "execute_result"
    }
   ],
   "source": [
    "sales.groupby(['City', 'Gender'])['Total'].sum()"
   ]
  },
  {
   "cell_type": "markdown",
   "id": "31e23b01",
   "metadata": {},
   "source": [
    "Посмотрим на отношения между данными по гендеру и категории покупателя:"
   ]
  },
  {
   "cell_type": "code",
   "execution_count": 72,
   "id": "63108b01",
   "metadata": {
    "scrolled": true
   },
   "outputs": [
    {
     "data": {
      "text/html": [
       "<div>\n",
       "<style scoped>\n",
       "    .dataframe tbody tr th:only-of-type {\n",
       "        vertical-align: middle;\n",
       "    }\n",
       "\n",
       "    .dataframe tbody tr th {\n",
       "        vertical-align: top;\n",
       "    }\n",
       "\n",
       "    .dataframe thead th {\n",
       "        text-align: right;\n",
       "    }\n",
       "</style>\n",
       "<table border=\"1\" class=\"dataframe\">\n",
       "  <thead>\n",
       "    <tr style=\"text-align: right;\">\n",
       "      <th>Customer type</th>\n",
       "      <th>Member</th>\n",
       "      <th>Normal</th>\n",
       "    </tr>\n",
       "    <tr>\n",
       "      <th>Gender</th>\n",
       "      <th></th>\n",
       "      <th></th>\n",
       "    </tr>\n",
       "  </thead>\n",
       "  <tbody>\n",
       "    <tr>\n",
       "      <th>Female</th>\n",
       "      <td>261</td>\n",
       "      <td>240</td>\n",
       "    </tr>\n",
       "    <tr>\n",
       "      <th>Male</th>\n",
       "      <td>240</td>\n",
       "      <td>259</td>\n",
       "    </tr>\n",
       "  </tbody>\n",
       "</table>\n",
       "</div>"
      ],
      "text/plain": [
       "Customer type  Member  Normal\n",
       "Gender                       \n",
       "Female            261     240\n",
       "Male              240     259"
      ]
     },
     "execution_count": 72,
     "metadata": {},
     "output_type": "execute_result"
    }
   ],
   "source": [
    "sales.groupby('Gender')['Customer type'].value_counts().unstack()"
   ]
  },
  {
   "cell_type": "markdown",
   "id": "ad4d9954",
   "metadata": {},
   "source": [
    "Получаем, что среди мужчин меньше людей с картой, чем среди женщин. "
   ]
  },
  {
   "cell_type": "markdown",
   "id": "c2822b22",
   "metadata": {},
   "source": [
    "Посмотрим на взаимосвязь между типом оплаты и городами:"
   ]
  },
  {
   "cell_type": "code",
   "execution_count": 73,
   "id": "98325054",
   "metadata": {
    "scrolled": true
   },
   "outputs": [
    {
     "data": {
      "text/plain": [
       "<AxesSubplot:xlabel='City'>"
      ]
     },
     "execution_count": 73,
     "metadata": {},
     "output_type": "execute_result"
    },
    {
     "data": {
      "image/png": "[encoded data removed]",
      "text/plain": [
       "<Figure size 640x480 with 1 Axes>"
      ]
     },
     "metadata": {},
     "output_type": "display_data"
    }
   ],
   "source": [
    "sales.groupby('City')['Payment'].value_counts().unstack().plot(kind='bar')"
   ]
  },
  {
   "cell_type": "markdown",
   "id": "a80f43f5",
   "metadata": {},
   "source": [
    "Вывод:в Мандалайе чаще покупку совершают с помощью электронного кошелька, в Нейпьидо оплата чаще всего происходит наличными, а в Янгоне- тоже электронным кошельком."
   ]
  },
  {
   "cell_type": "markdown",
   "id": "df1582c2",
   "metadata": {},
   "source": [
    "Посмотрим также на объемы всех покупок, оплаченных разными методами в трех городах."
   ]
  },
  {
   "cell_type": "code",
   "execution_count": 98,
   "id": "e6435c0a",
   "metadata": {},
   "outputs": [
    {
     "data": {
      "text/plain": [
       "<AxesSubplot:xlabel='City'>"
      ]
     },
     "execution_count": 98,
     "metadata": {},
     "output_type": "execute_result"
    },
    {
     "data": {
      "image/png": "[encoded data removed]",
      "text/plain": [
       "<Figure size 640x480 with 1 Axes>"
      ]
     },
     "metadata": {},
     "output_type": "display_data"
    }
   ],
   "source": [
    "sales.groupby(['City','Payment'])['Total'].sum().unstack().plot(kind='bar')"
   ]
  },
  {
   "cell_type": "markdown",
   "id": "f4fce2ee",
   "metadata": {},
   "source": [
    "Можно заметить, что в Мандалайе наибольший объем покупок оплачен с кредиток, в Нейпьидо - кэшем, в Янгуне - электронным кошельком. В реальном мире такая информация может быть полезна для подсчета прибыли, так как разные финансовые сервисы берут разные комиссии."
   ]
  },
  {
   "cell_type": "markdown",
   "id": "c90c05bd",
   "metadata": {
    "scrolled": true
   },
   "source": [
    "Посмотрим на распределения общей стоимости покупок, в зависимости от наличия у клиента клубной карты"
   ]
  },
  {
   "cell_type": "code",
   "execution_count": 77,
   "id": "ecbb2304",
   "metadata": {},
   "outputs": [
    {
     "data": {
      "text/plain": [
       "Member         AxesSubplot(0.1,0.15;0.363636x0.75)\n",
       "Normal    AxesSubplot(0.536364,0.15;0.363636x0.75)\n",
       "dtype: object"
      ]
     },
     "execution_count": 77,
     "metadata": {},
     "output_type": "execute_result"
    },
    {
     "data": {
      "image/png": "[encoded data removed]",
      "text/plain": [
       "<Figure size 640x480 with 2 Axes>"
      ]
     },
     "metadata": {},
     "output_type": "display_data"
    }
   ],
   "source": [
    "sales.groupby(['Customer type']).boxplot(column='Total')"
   ]
  },
  {
   "cell_type": "markdown",
   "id": "f1ffb970",
   "metadata": {},
   "source": [
    "Как ни странно, распределение сумм покупок для держателей клубной карты почти не отличается. Тем не менее, можно отметить, что медиана у держателей клубной карты чуть больше. Также у держателей клубной карты больше интерквартильный размах (75% - 25%)."
   ]
  },
  {
   "cell_type": "markdown",
   "id": "59bdb479",
   "metadata": {},
   "source": [
    "Посмотрим на статистики покупок для держателей клубных карт и обычных покупателей."
   ]
  },
  {
   "cell_type": "code",
   "execution_count": 89,
   "id": "15f09d4c",
   "metadata": {},
   "outputs": [
    {
     "data": {
      "text/html": [
       "<div>\n",
       "<style scoped>\n",
       "    .dataframe tbody tr th:only-of-type {\n",
       "        vertical-align: middle;\n",
       "    }\n",
       "\n",
       "    .dataframe tbody tr th {\n",
       "        vertical-align: top;\n",
       "    }\n",
       "\n",
       "    .dataframe thead tr th {\n",
       "        text-align: left;\n",
       "    }\n",
       "\n",
       "    .dataframe thead tr:last-of-type th {\n",
       "        text-align: right;\n",
       "    }\n",
       "</style>\n",
       "<table border=\"1\" class=\"dataframe\">\n",
       "  <thead>\n",
       "    <tr>\n",
       "      <th></th>\n",
       "      <th colspan=\"3\" halign=\"left\">mean</th>\n",
       "      <th colspan=\"3\" halign=\"left\">std</th>\n",
       "      <th colspan=\"3\" halign=\"left\">range_values</th>\n",
       "    </tr>\n",
       "    <tr>\n",
       "      <th></th>\n",
       "      <th>Quantity</th>\n",
       "      <th>Rating</th>\n",
       "      <th>Total</th>\n",
       "      <th>Quantity</th>\n",
       "      <th>Rating</th>\n",
       "      <th>Total</th>\n",
       "      <th>Quantity</th>\n",
       "      <th>Rating</th>\n",
       "      <th>Total</th>\n",
       "    </tr>\n",
       "    <tr>\n",
       "      <th>Customer type</th>\n",
       "      <th></th>\n",
       "      <th></th>\n",
       "      <th></th>\n",
       "      <th></th>\n",
       "      <th></th>\n",
       "      <th></th>\n",
       "      <th></th>\n",
       "      <th></th>\n",
       "      <th></th>\n",
       "    </tr>\n",
       "  </thead>\n",
       "  <tbody>\n",
       "    <tr>\n",
       "      <th>Member</th>\n",
       "      <td>5.558882</td>\n",
       "      <td>6.940319</td>\n",
       "      <td>327.791305</td>\n",
       "      <td>2.961592</td>\n",
       "      <td>1.749380</td>\n",
       "      <td>247.993782</td>\n",
       "      <td>9</td>\n",
       "      <td>6.0</td>\n",
       "      <td>1031.9715</td>\n",
       "    </tr>\n",
       "    <tr>\n",
       "      <th>Normal</th>\n",
       "      <td>5.460922</td>\n",
       "      <td>7.005210</td>\n",
       "      <td>318.122856</td>\n",
       "      <td>2.886747</td>\n",
       "      <td>1.688222</td>\n",
       "      <td>243.902800</td>\n",
       "      <td>9</td>\n",
       "      <td>6.0</td>\n",
       "      <td>1026.5955</td>\n",
       "    </tr>\n",
       "  </tbody>\n",
       "</table>\n",
       "</div>"
      ],
      "text/plain": [
       "                   mean                             std                        \\\n",
       "               Quantity    Rating       Total  Quantity    Rating       Total   \n",
       "Customer type                                                                   \n",
       "Member         5.558882  6.940319  327.791305  2.961592  1.749380  247.993782   \n",
       "Normal         5.460922  7.005210  318.122856  2.886747  1.688222  243.902800   \n",
       "\n",
       "              range_values                    \n",
       "                  Quantity Rating      Total  \n",
       "Customer type                                 \n",
       "Member                   9    6.0  1031.9715  \n",
       "Normal                   9    6.0  1026.5955  "
      ]
     },
     "execution_count": 89,
     "metadata": {},
     "output_type": "execute_result"
    }
   ],
   "source": [
    "\n",
    "def range_values(x):\n",
    "    return x.max() - x.min()\n",
    "\n",
    "sales.pivot_table(index='Customer type', \n",
    "                  values=['Quantity', 'Total', 'Rating'],\n",
    "                  aggfunc=['mean', 'std', range_values])"
   ]
  },
  {
   "cell_type": "markdown",
   "id": "a317a818",
   "metadata": {},
   "source": [
    "Статистики похожи. Странно, что рейтинг, составляемый по общему опыту покупок, у обычных покупателей больше в среднем. "
   ]
  },
  {
   "cell_type": "markdown",
   "id": "153f5255",
   "metadata": {},
   "source": [
    "### Обработаем даты"
   ]
  },
  {
   "cell_type": "code",
   "execution_count": 103,
   "id": "528ac680",
   "metadata": {},
   "outputs": [
    {
     "name": "stdout",
     "output_type": "stream",
     "text": [
      "2019-01-01 00:00:00 2019-03-30 00:00:00\n"
     ]
    }
   ],
   "source": [
    "sales['Date'] = pd.to_datetime(sales['Date'])\n",
    "print(sales['Date'].min(),sales['Date'].max())"
   ]
  },
  {
   "cell_type": "markdown",
   "id": "9574b2f0",
   "metadata": {},
   "source": [
    "Отсортируем данные по датам, чтобы графики корректно отображались"
   ]
  },
  {
   "cell_type": "code",
   "execution_count": 110,
   "id": "c9eb1520",
   "metadata": {},
   "outputs": [
    {
     "data": {
      "text/plain": [
       "<AxesSubplot:xlabel='Date', ylabel='Total'>"
      ]
     },
     "execution_count": 110,
     "metadata": {},
     "output_type": "execute_result"
    },
    {
     "data": {
      "image/png": "[encoded data removed]",
      "text/plain": [
       "<Figure size 1000x600 with 1 Axes>"
      ]
     },
     "metadata": {},
     "output_type": "display_data"
    }
   ],
   "source": [
    "import matplotlib.pyplot as plt\n",
    "sales = sales.sort_values(by='Date')\n",
    "plt.figure(figsize=(10, 6))\n",
    "sns.lineplot(x=sales['Date'], y=sales['Total'])"
   ]
  },
  {
   "cell_type": "markdown",
   "id": "ee4374bd",
   "metadata": {},
   "source": [
    "Данные выглядят как случайный шум. Очевидных трендов не прослеживается. "
   ]
  },
  {
   "cell_type": "markdown",
   "id": "bb2ae128",
   "metadata": {},
   "source": [
    "Проверим, как соотносятся данные для выходных и обычных дней. Логично предположить, что в выходные покупок совершается или сильно больше, или сильно меньше, чем в будни."
   ]
  },
  {
   "cell_type": "code",
   "execution_count": 155,
   "id": "c4bc7559",
   "metadata": {},
   "outputs": [],
   "source": [
    "sales_weekend = sales[sales['Date'].dt.weekday.isin([0,1])].sort_values(by='Date')\n",
    "sales_weekend = sales_weekend.groupby('Date')['Total'].sum()\n",
    "sales_budni = sales[~sales['Date'].dt.weekday.isin([0,1])].sort_values(by='Date')\n",
    "sales_budni = sales_budni.groupby('Date')['Total'].sum()"
   ]
  },
  {
   "cell_type": "code",
   "execution_count": 148,
   "id": "f0ef783f",
   "metadata": {},
   "outputs": [
    {
     "data": {
      "text/html": [
       "<div>\n",
       "<style scoped>\n",
       "    .dataframe tbody tr th:only-of-type {\n",
       "        vertical-align: middle;\n",
       "    }\n",
       "\n",
       "    .dataframe tbody tr th {\n",
       "        vertical-align: top;\n",
       "    }\n",
       "\n",
       "    .dataframe thead th {\n",
       "        text-align: right;\n",
       "    }\n",
       "</style>\n",
       "<table border=\"1\" class=\"dataframe\">\n",
       "  <thead>\n",
       "    <tr style=\"text-align: right;\">\n",
       "      <th></th>\n",
       "      <th>Total</th>\n",
       "    </tr>\n",
       "    <tr>\n",
       "      <th>Date</th>\n",
       "      <th></th>\n",
       "    </tr>\n",
       "  </thead>\n",
       "  <tbody>\n",
       "    <tr>\n",
       "      <th>2019-01-02</th>\n",
       "      <td>1945.5030</td>\n",
       "    </tr>\n",
       "    <tr>\n",
       "      <th>2019-01-03</th>\n",
       "      <td>2078.1285</td>\n",
       "    </tr>\n",
       "    <tr>\n",
       "      <th>2019-01-04</th>\n",
       "      <td>1623.6885</td>\n",
       "    </tr>\n",
       "    <tr>\n",
       "      <th>2019-01-05</th>\n",
       "      <td>3536.6835</td>\n",
       "    </tr>\n",
       "    <tr>\n",
       "      <th>2019-01-06</th>\n",
       "      <td>3614.2050</td>\n",
       "    </tr>\n",
       "    <tr>\n",
       "      <th>...</th>\n",
       "      <td>...</td>\n",
       "    </tr>\n",
       "    <tr>\n",
       "      <th>2019-03-24</th>\n",
       "      <td>3477.4635</td>\n",
       "    </tr>\n",
       "    <tr>\n",
       "      <th>2019-03-27</th>\n",
       "      <td>2902.8195</td>\n",
       "    </tr>\n",
       "    <tr>\n",
       "      <th>2019-03-28</th>\n",
       "      <td>2229.4020</td>\n",
       "    </tr>\n",
       "    <tr>\n",
       "      <th>2019-03-29</th>\n",
       "      <td>4023.2430</td>\n",
       "    </tr>\n",
       "    <tr>\n",
       "      <th>2019-03-30</th>\n",
       "      <td>4487.0595</td>\n",
       "    </tr>\n",
       "  </tbody>\n",
       "</table>\n",
       "<p>64 rows × 1 columns</p>\n",
       "</div>"
      ],
      "text/plain": [
       "                Total\n",
       "Date                 \n",
       "2019-01-02  1945.5030\n",
       "2019-01-03  2078.1285\n",
       "2019-01-04  1623.6885\n",
       "2019-01-05  3536.6835\n",
       "2019-01-06  3614.2050\n",
       "...               ...\n",
       "2019-03-24  3477.4635\n",
       "2019-03-27  2902.8195\n",
       "2019-03-28  2229.4020\n",
       "2019-03-29  4023.2430\n",
       "2019-03-30  4487.0595\n",
       "\n",
       "[64 rows x 1 columns]"
      ]
     },
     "execution_count": 148,
     "metadata": {},
     "output_type": "execute_result"
    }
   ],
   "source": [
    "sales_budni"
   ]
  },
  {
   "cell_type": "code",
   "execution_count": 158,
   "id": "edb1762b",
   "metadata": {},
   "outputs": [
    {
     "data": {
      "text/plain": [
       "<matplotlib.legend.Legend at 0x7f73ba4e8070>"
      ]
     },
     "execution_count": 158,
     "metadata": {},
     "output_type": "execute_result"
    },
    {
     "data": {
      "image/png": "[encoded data removed]",
      "text/plain": [
       "<Figure size 1000x600 with 1 Axes>"
      ]
     },
     "metadata": {},
     "output_type": "display_data"
    }
   ],
   "source": [
    "plt.figure(figsize=(10, 6))\n",
    "plt.scatter(sales_weekend.index,sales_weekend,label = 'продажи за выходные')\n",
    "plt.scatter(sales_budni.index,sales_budni,label = 'продажи за будни')\n",
    "plt.legend()"
   ]
  },
  {
   "cell_type": "markdown",
   "id": "51dbee0f",
   "metadata": {},
   "source": [
    "Видно, что значения за выходные не сильно отличаются от значений за будни"
   ]
  },
  {
   "cell_type": "markdown",
   "id": "f3ac36a9",
   "metadata": {},
   "source": [
    "Выводы: при анализе датасета с данными по рекордным продажам в 3-х супермаркетах за 3 месяца, состоящего из 1000 строк и 16 колонок, была обнаружена: -основная информация по самым прибыльным и особо неприбыльным покупкам.После применения кода было выявлено, что один из столбцов состоит из искусственно сформированных данных, так как показатели продаж одинаковы. Далее была выявлена взаимосвязь между городами и разными формами покупок, сформировано визуально отображение данных о продажах за будни и выходные, проанализированы тренды, в ходе данного анализа было выявлено, что тенденций в покупках не прослеживается, все они носят стихий характер6 что применительно к маркетинговому анализу может истолковано как отличный знак для создания пиар-компаний и интеграции нейромаркетинговых показателей для продвижения товаров.  "
   ]
  }
 ],
 "metadata": {
  "kernelspec": {
   "display_name": "Python 3 (ipykernel)",
   "language": "python",
   "name": "python3"
  },
  "language_info": {
   "codemirror_mode": {
    "name": "ipython",
    "version": 3
   },
   "file_extension": ".py",
   "mimetype": "text/x-python",
   "name": "python",
   "nbconvert_exporter": "python",
   "pygments_lexer": "ipython3",
   "version": "3.9.12"
  }
 },
 "nbformat": 4,
 "nbformat_minor": 5
}
